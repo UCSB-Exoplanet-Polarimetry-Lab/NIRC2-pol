{
 "cells": [
  {
   "cell_type": "markdown",
   "id": "46647eb2",
   "metadata": {},
   "source": [
    "## 1) Read FITS files in a numeric range from a directory\n",
    "\n",
    "Set the input directory, the filename pattern (assumes files named like `n123.fits`), and the start/end indices. The code will build the filenames and read them."
   ]
  },
  {
   "cell_type": "code",
   "execution_count": 3,
   "id": "7e6350b4",
   "metadata": {},
   "outputs": [
    {
     "name": "stdout",
     "output_type": "stream",
     "text": [
      "Found 37 files to process\n",
      "['/home/shared/exoserver/NIRC2_Pol/Dome_Flats/2025oct02/n0003.fits', '/home/shared/exoserver/NIRC2_Pol/Dome_Flats/2025oct02/n0004.fits', '/home/shared/exoserver/NIRC2_Pol/Dome_Flats/2025oct02/n0005.fits', '/home/shared/exoserver/NIRC2_Pol/Dome_Flats/2025oct02/n0006.fits', '/home/shared/exoserver/NIRC2_Pol/Dome_Flats/2025oct02/n0007.fits', '/home/shared/exoserver/NIRC2_Pol/Dome_Flats/2025oct02/n0008.fits', '/home/shared/exoserver/NIRC2_Pol/Dome_Flats/2025oct02/n0009.fits', '/home/shared/exoserver/NIRC2_Pol/Dome_Flats/2025oct02/n0010.fits', '/home/shared/exoserver/NIRC2_Pol/Dome_Flats/2025oct02/n0011.fits', '/home/shared/exoserver/NIRC2_Pol/Dome_Flats/2025oct02/n0012.fits', '/home/shared/exoserver/NIRC2_Pol/Dome_Flats/2025oct02/n0013.fits', '/home/shared/exoserver/NIRC2_Pol/Dome_Flats/2025oct02/n0014.fits', '/home/shared/exoserver/NIRC2_Pol/Dome_Flats/2025oct02/n0015.fits', '/home/shared/exoserver/NIRC2_Pol/Dome_Flats/2025oct02/n0016.fits', '/home/shared/exoserver/NIRC2_Pol/Dome_Flats/2025oct02/n0017.fits', '/home/shared/exoserver/NIRC2_Pol/Dome_Flats/2025oct02/n0018.fits', '/home/shared/exoserver/NIRC2_Pol/Dome_Flats/2025oct02/n0019.fits', '/home/shared/exoserver/NIRC2_Pol/Dome_Flats/2025oct02/n0020.fits', '/home/shared/exoserver/NIRC2_Pol/Dome_Flats/2025oct02/n0021.fits', '/home/shared/exoserver/NIRC2_Pol/Dome_Flats/2025oct02/n0022.fits', '/home/shared/exoserver/NIRC2_Pol/Dome_Flats/2025oct02/n0023.fits', '/home/shared/exoserver/NIRC2_Pol/Dome_Flats/2025oct02/n0024.fits', '/home/shared/exoserver/NIRC2_Pol/Dome_Flats/2025oct02/n0025.fits', '/home/shared/exoserver/NIRC2_Pol/Dome_Flats/2025oct02/n0026.fits', '/home/shared/exoserver/NIRC2_Pol/Dome_Flats/2025oct02/n0027.fits', '/home/shared/exoserver/NIRC2_Pol/Dome_Flats/2025oct02/n0028.fits', '/home/shared/exoserver/NIRC2_Pol/Dome_Flats/2025oct02/n0029.fits', '/home/shared/exoserver/NIRC2_Pol/Dome_Flats/2025oct02/n0030.fits', '/home/shared/exoserver/NIRC2_Pol/Dome_Flats/2025oct02/n0031.fits', '/home/shared/exoserver/NIRC2_Pol/Dome_Flats/2025oct02/n0032.fits', '/home/shared/exoserver/NIRC2_Pol/Dome_Flats/2025oct02/n0033.fits', '/home/shared/exoserver/NIRC2_Pol/Dome_Flats/2025oct02/n0034.fits', '/home/shared/exoserver/NIRC2_Pol/Dome_Flats/2025oct02/n0035.fits', '/home/shared/exoserver/NIRC2_Pol/Dome_Flats/2025oct02/n0036.fits', '/home/shared/exoserver/NIRC2_Pol/Dome_Flats/2025oct02/n0037.fits', '/home/shared/exoserver/NIRC2_Pol/Dome_Flats/2025oct02/n0038.fits', '/home/shared/exoserver/NIRC2_Pol/Dome_Flats/2025oct02/n0039.fits']\n"
     ]
    }
   ],
   "source": [
    "# Parameters: edit these to match your data\n",
    "wavelength = \"H\"\n",
    "input_dir = \"/home/shared/exoserver/NIRC2_Pol/Dome_Flats/2025oct02/\"  # directory with n###.fits files\n",
    "file_prefix = 'n'  # files like n0.fits, n10.fits or n001.fits depending on your naming\n",
    "file_suffix = '.fits'\n",
    "start_index = 3  # inclusive\n",
    "end_index = 39   # inclusive; if you want 0..18 (19 files)\n",
    "flat_file = '/home/shared/exoserver/NIRC2_Pol/Dome_Flats/2025oct02/n0001.fits'  # path to no-wollaston image with same wavelength, but different t_int\n",
    "\n",
    "# List of file numbers to skip (e.g., [7, 13, 21])\n",
    "skip_indices = []  # edit this list as needed\n",
    "\n",
    "# Build list of filenames\n",
    "from pathlib import Path\n",
    "import numpy as np\n",
    "input_dir = Path(input_dir)\n",
    "files = []\n",
    "for i in range(start_index, end_index + 1):\n",
    "    if i in skip_indices:\n",
    "        print(f\"Skipping file number {i} (in skip_indices)\")\n",
    "        continue\n",
    "    # zero-pad the numeric index to 4 digits, e.g., 5 -> 0005\n",
    "    idx_str = f\"{i:04d}\"\n",
    "    fname = input_dir / f\"{file_prefix}{idx_str}{file_suffix}\"\n",
    "    if fname.exists():\n",
    "        files.append(str(fname))\n",
    "    else:\n",
    "        print(f\"Warning: {fname} not found\")\n",
    "\n",
    "print(f'Found {len(files)} files to process')\n",
    "\n",
    "print(files)\n"
   ]
  },
  {
   "cell_type": "markdown",
   "id": "bef0b852",
   "metadata": {},
   "source": [
    "# Dark Subtraction Script"
   ]
  },
  {
   "cell_type": "code",
   "execution_count": 4,
   "id": "0812ea0f",
   "metadata": {},
   "outputs": [
    {
     "name": "stdout",
     "output_type": "stream",
     "text": [
      "Saved n0003_darksub.fits\n",
      "Saved n0004_darksub.fits\n",
      "Saved n0005_darksub.fits\n",
      "Saved n0006_darksub.fits\n",
      "Saved n0007_darksub.fits\n",
      "Saved n0008_darksub.fits\n",
      "Saved n0009_darksub.fits\n",
      "Saved n0010_darksub.fits\n",
      "Saved n0011_darksub.fits\n",
      "Saved n0012_darksub.fits\n",
      "Saved n0013_darksub.fits\n",
      "Saved n0014_darksub.fits\n",
      "Saved n0015_darksub.fits\n",
      "Saved n0016_darksub.fits\n",
      "Saved n0017_darksub.fits\n",
      "Saved n0018_darksub.fits\n",
      "Saved n0019_darksub.fits\n",
      "Saved n0020_darksub.fits\n",
      "Saved n0021_darksub.fits\n",
      "Saved n0022_darksub.fits\n",
      "Saved n0023_darksub.fits\n",
      "Saved n0024_darksub.fits\n",
      "Saved n0025_darksub.fits\n",
      "Saved n0026_darksub.fits\n",
      "Saved n0027_darksub.fits\n",
      "Saved n0028_darksub.fits\n",
      "Saved n0029_darksub.fits\n",
      "Saved n0030_darksub.fits\n",
      "Saved n0031_darksub.fits\n",
      "Saved n0032_darksub.fits\n",
      "Saved n0033_darksub.fits\n",
      "Saved n0034_darksub.fits\n",
      "Saved n0035_darksub.fits\n",
      "Saved n0036_darksub.fits\n",
      "Saved n0037_darksub.fits\n",
      "Saved n0038_darksub.fits\n",
      "Saved n0039_darksub.fits\n"
     ]
    }
   ],
   "source": [
    "# --- DARK SUBTRACTION SCRIPT ---\n",
    "from astropy.io import fits\n",
    "import numpy as np\n",
    "from pathlib import Path\n",
    "\n",
    "# User parameters:\n",
    "dark_file = '/home/shared/exoserver/NIRC2_Pol/Dome_Flats/2025sep18/n0007.fits' # path to master dark\n",
    "output_dark_dir = Path(\"/home/shared/exoserver/NIRC2_Pol/Dome_Flats/2025oct02/\" + wavelength + \"-Band/Dark_Subtracted_Data\")  # directory to save dark-subtracted files\n",
    "output_dark_dir.mkdir(parents=True, exist_ok=True)\n",
    "\n",
    "# Load dark\n",
    "with fits.open(dark_file) as hdudark:\n",
    "    dark = hdudark[0].data.astype(float)\n",
    "\n",
    "# Dark subtract and save each file\n",
    "for f in files:\n",
    "    with fits.open(f) as hdu:\n",
    "        data = hdu[0].data.astype(float)\n",
    "        header = hdu[0].header\n",
    "    if data.shape != dark.shape:\n",
    "        print(f'Skipping {Path(f).name}: shape mismatch with dark')\n",
    "        continue\n",
    "    sub = data - dark\n",
    "    outname = output_dark_dir / (Path(f).stem + '_darksub.fits')\n",
    "    fits.writeto(outname, sub.astype(np.float32), header=header, overwrite=True)\n",
    "    print(f'Saved {outname.name}')\n"
   ]
  },
  {
   "cell_type": "markdown",
   "id": "20d539dd",
   "metadata": {},
   "source": [
    "## 2) Flat-field all files using a specified flat FITS file\n",
    "\n",
    "This cell will open the flat field image and divide each science frame by the flat. It performs a small sigma-clipped normalization of the flat before applying to avoid scaling issues."
   ]
  },
  {
   "cell_type": "code",
   "execution_count": 5,
   "id": "f1a22fad",
   "metadata": {},
   "outputs": [
    {
     "name": "stdout",
     "output_type": "stream",
     "text": [
      "Saved n0003_flatfielded.fits\n",
      "Saved n0004_flatfielded.fits\n",
      "Saved n0005_flatfielded.fits\n",
      "Saved n0006_flatfielded.fits\n",
      "Saved n0007_flatfielded.fits\n",
      "Saved n0008_flatfielded.fits\n",
      "Saved n0009_flatfielded.fits\n",
      "Saved n0010_flatfielded.fits\n",
      "Saved n0011_flatfielded.fits\n",
      "Saved n0012_flatfielded.fits\n",
      "Saved n0013_flatfielded.fits\n",
      "Saved n0014_flatfielded.fits\n",
      "Saved n0015_flatfielded.fits\n",
      "Saved n0016_flatfielded.fits\n",
      "Saved n0017_flatfielded.fits\n",
      "Saved n0018_flatfielded.fits\n",
      "Saved n0019_flatfielded.fits\n",
      "Saved n0020_flatfielded.fits\n",
      "Saved n0021_flatfielded.fits\n",
      "Saved n0022_flatfielded.fits\n",
      "Saved n0023_flatfielded.fits\n",
      "Saved n0024_flatfielded.fits\n",
      "Saved n0025_flatfielded.fits\n",
      "Saved n0026_flatfielded.fits\n",
      "Saved n0027_flatfielded.fits\n",
      "Saved n0028_flatfielded.fits\n",
      "Saved n0029_flatfielded.fits\n",
      "Saved n0030_flatfielded.fits\n",
      "Saved n0031_flatfielded.fits\n",
      "Saved n0032_flatfielded.fits\n",
      "Saved n0033_flatfielded.fits\n",
      "Saved n0034_flatfielded.fits\n",
      "Saved n0035_flatfielded.fits\n",
      "Saved n0036_flatfielded.fits\n",
      "Saved n0037_flatfielded.fits\n",
      "Saved n0038_flatfielded.fits\n",
      "Saved n0039_flatfielded.fits\n"
     ]
    }
   ],
   "source": [
    "# --- SIMPLE FLAT-FIELDING SCRIPT (on dark-subtracted data) ---\n",
    "from astropy.io import fits\n",
    "import numpy as np\n",
    "from pathlib import Path\n",
    "\n",
    "# User parameters:\n",
    "input_dir = Path(\"/home/shared/exoserver/NIRC2_Pol/Dome_Flats/2025oct02/\" + wavelength + \"-Band/Dark_Subtracted_Data/\")  # directory with dark-subtracted FITS files\n",
    "output_flat_dir = Path(\"/home/shared/exoserver/NIRC2_Pol/Dome_Flats/2025oct02/\" + wavelength + \"-Band/Flat_Fielded_Data/\")  # directory to save flat-fielded files\n",
    "output_flat_dir.mkdir(parents=True, exist_ok=True)\n",
    "\n",
    "# Load flat\n",
    "hdul = fits.open(flat_file)\n",
    "primary_hdu = hdul[0]\n",
    "flat = (primary_hdu.data - dark) / np.median(primary_hdu.data - dark)\n",
    "\n",
    "# Replace zeros or NaNs in flat with median of good pixels\n",
    "#mask_good = np.isfinite(flat) & (flat > 0)\n",
    "#if not np.any(mask_good):\n",
    "#    raise RuntimeError('Flat field contains no positive finite pixels')\n",
    "#flat_median = np.median(flat[mask_good])\n",
    "#flat[~mask_good] = flat_median\n",
    "\n",
    "for i in range(start_index, end_index + 1):\n",
    "    idx_str = f\"{i:04d}\"\n",
    "    file_suffix2 = '_darksub.fits'\n",
    "    fname = input_dir / f\"{file_prefix}{idx_str}{file_suffix2}\"\n",
    "    if i in skip_indices:\n",
    "        print(f\"Skipping file number {i} (in skip_indices)\")\n",
    "        continue\n",
    "    with fits.open(fname) as hdu:\n",
    "        data = hdu[0].data.astype(float)\n",
    "        header = hdu[0].header\n",
    "    if data.shape != flat.shape:\n",
    "        print(f'Skipping {fname.name}: shape mismatch')\n",
    "        continue\n",
    "    with np.errstate(divide='ignore', invalid='ignore'):\n",
    "        ff = np.divide(data, flat, out=np.full_like(data, np.nan), where=(flat != 0))\n",
    "    ff[~np.isfinite(ff)] = np.nan\n",
    "    outname = output_flat_dir / (fname.stem.replace('_darksub','') + '_flatfielded.fits')\n",
    "    fits.writeto(outname, ff.astype(np.float32), header=header, overwrite=True)\n",
    "    print(f'Saved {outname.name}')"
   ]
  },
  {
   "cell_type": "markdown",
   "id": "c93d7fa9",
   "metadata": {},
   "source": [
    "## 3) Rectangular aperture photometry (two apertures) and save results\n",
    "\n",
    "We define two rectangular apertures by (x0, x1, y0, y1). The code sums pixels inside each aperture for every flat-fielded image. The top aperture sums are saved into `top_fluxes.npy` and the bottom into `bottom_fluxes.npy`.\n",
    "\n",
    "Adjust the aperture coordinates to match your data. Coordinates are in pixel indices with origin (0,0) at the FITS array's [0,0]."
   ]
  },
  {
   "cell_type": "code",
   "execution_count": 6,
   "id": "d1b85284",
   "metadata": {},
   "outputs": [
    {
     "name": "stdout",
     "output_type": "stream",
     "text": [
      "[PosixPath('/home/shared/exoserver/NIRC2_Pol/Dome_Flats/2025oct02/H-Band/Flat_Fielded_Data/n0003_flatfielded.fits'), PosixPath('/home/shared/exoserver/NIRC2_Pol/Dome_Flats/2025oct02/H-Band/Flat_Fielded_Data/n0004_flatfielded.fits'), PosixPath('/home/shared/exoserver/NIRC2_Pol/Dome_Flats/2025oct02/H-Band/Flat_Fielded_Data/n0005_flatfielded.fits'), PosixPath('/home/shared/exoserver/NIRC2_Pol/Dome_Flats/2025oct02/H-Band/Flat_Fielded_Data/n0006_flatfielded.fits'), PosixPath('/home/shared/exoserver/NIRC2_Pol/Dome_Flats/2025oct02/H-Band/Flat_Fielded_Data/n0007_flatfielded.fits'), PosixPath('/home/shared/exoserver/NIRC2_Pol/Dome_Flats/2025oct02/H-Band/Flat_Fielded_Data/n0008_flatfielded.fits'), PosixPath('/home/shared/exoserver/NIRC2_Pol/Dome_Flats/2025oct02/H-Band/Flat_Fielded_Data/n0009_flatfielded.fits'), PosixPath('/home/shared/exoserver/NIRC2_Pol/Dome_Flats/2025oct02/H-Band/Flat_Fielded_Data/n0010_flatfielded.fits'), PosixPath('/home/shared/exoserver/NIRC2_Pol/Dome_Flats/2025oct02/H-Band/Flat_Fielded_Data/n0011_flatfielded.fits'), PosixPath('/home/shared/exoserver/NIRC2_Pol/Dome_Flats/2025oct02/H-Band/Flat_Fielded_Data/n0012_flatfielded.fits'), PosixPath('/home/shared/exoserver/NIRC2_Pol/Dome_Flats/2025oct02/H-Band/Flat_Fielded_Data/n0013_flatfielded.fits'), PosixPath('/home/shared/exoserver/NIRC2_Pol/Dome_Flats/2025oct02/H-Band/Flat_Fielded_Data/n0014_flatfielded.fits'), PosixPath('/home/shared/exoserver/NIRC2_Pol/Dome_Flats/2025oct02/H-Band/Flat_Fielded_Data/n0015_flatfielded.fits'), PosixPath('/home/shared/exoserver/NIRC2_Pol/Dome_Flats/2025oct02/H-Band/Flat_Fielded_Data/n0016_flatfielded.fits'), PosixPath('/home/shared/exoserver/NIRC2_Pol/Dome_Flats/2025oct02/H-Band/Flat_Fielded_Data/n0017_flatfielded.fits'), PosixPath('/home/shared/exoserver/NIRC2_Pol/Dome_Flats/2025oct02/H-Band/Flat_Fielded_Data/n0018_flatfielded.fits'), PosixPath('/home/shared/exoserver/NIRC2_Pol/Dome_Flats/2025oct02/H-Band/Flat_Fielded_Data/n0019_flatfielded.fits'), PosixPath('/home/shared/exoserver/NIRC2_Pol/Dome_Flats/2025oct02/H-Band/Flat_Fielded_Data/n0020_flatfielded.fits'), PosixPath('/home/shared/exoserver/NIRC2_Pol/Dome_Flats/2025oct02/H-Band/Flat_Fielded_Data/n0021_flatfielded.fits'), PosixPath('/home/shared/exoserver/NIRC2_Pol/Dome_Flats/2025oct02/H-Band/Flat_Fielded_Data/n0022_flatfielded.fits'), PosixPath('/home/shared/exoserver/NIRC2_Pol/Dome_Flats/2025oct02/H-Band/Flat_Fielded_Data/n0023_flatfielded.fits'), PosixPath('/home/shared/exoserver/NIRC2_Pol/Dome_Flats/2025oct02/H-Band/Flat_Fielded_Data/n0024_flatfielded.fits'), PosixPath('/home/shared/exoserver/NIRC2_Pol/Dome_Flats/2025oct02/H-Band/Flat_Fielded_Data/n0025_flatfielded.fits'), PosixPath('/home/shared/exoserver/NIRC2_Pol/Dome_Flats/2025oct02/H-Band/Flat_Fielded_Data/n0026_flatfielded.fits'), PosixPath('/home/shared/exoserver/NIRC2_Pol/Dome_Flats/2025oct02/H-Band/Flat_Fielded_Data/n0027_flatfielded.fits'), PosixPath('/home/shared/exoserver/NIRC2_Pol/Dome_Flats/2025oct02/H-Band/Flat_Fielded_Data/n0028_flatfielded.fits'), PosixPath('/home/shared/exoserver/NIRC2_Pol/Dome_Flats/2025oct02/H-Band/Flat_Fielded_Data/n0029_flatfielded.fits'), PosixPath('/home/shared/exoserver/NIRC2_Pol/Dome_Flats/2025oct02/H-Band/Flat_Fielded_Data/n0030_flatfielded.fits'), PosixPath('/home/shared/exoserver/NIRC2_Pol/Dome_Flats/2025oct02/H-Band/Flat_Fielded_Data/n0031_flatfielded.fits'), PosixPath('/home/shared/exoserver/NIRC2_Pol/Dome_Flats/2025oct02/H-Band/Flat_Fielded_Data/n0032_flatfielded.fits'), PosixPath('/home/shared/exoserver/NIRC2_Pol/Dome_Flats/2025oct02/H-Band/Flat_Fielded_Data/n0033_flatfielded.fits'), PosixPath('/home/shared/exoserver/NIRC2_Pol/Dome_Flats/2025oct02/H-Band/Flat_Fielded_Data/n0034_flatfielded.fits'), PosixPath('/home/shared/exoserver/NIRC2_Pol/Dome_Flats/2025oct02/H-Band/Flat_Fielded_Data/n0035_flatfielded.fits'), PosixPath('/home/shared/exoserver/NIRC2_Pol/Dome_Flats/2025oct02/H-Band/Flat_Fielded_Data/n0036_flatfielded.fits'), PosixPath('/home/shared/exoserver/NIRC2_Pol/Dome_Flats/2025oct02/H-Band/Flat_Fielded_Data/n0037_flatfielded.fits'), PosixPath('/home/shared/exoserver/NIRC2_Pol/Dome_Flats/2025oct02/H-Band/Flat_Fielded_Data/n0038_flatfielded.fits'), PosixPath('/home/shared/exoserver/NIRC2_Pol/Dome_Flats/2025oct02/H-Band/Flat_Fielded_Data/n0039_flatfielded.fits')]\n",
      "Found 37 flat-fielded files\n",
      "[8.42846449e+08 8.58191637e+08 8.68714797e+08 8.76540397e+08\n",
      " 8.81214399e+08 8.79354751e+08 8.69927466e+08 8.60837327e+08\n",
      " 8.54505266e+08 8.55986873e+08 8.65055505e+08 8.73333837e+08\n",
      " 8.78937910e+08 8.82133021e+08 8.78688564e+08 8.69521700e+08\n",
      " 8.59631169e+08 8.53664921e+08 8.52853812e+08 8.56594325e+08\n",
      " 8.69948280e+08 8.75923060e+08 8.80236162e+08 8.81075820e+08\n",
      " 8.73204125e+08 8.66376654e+08 8.59934005e+08 8.58369467e+08\n",
      " 8.65148147e+08 8.75702672e+08 8.80220722e+08 8.85426703e+08\n",
      " 8.82826970e+08 8.75781842e+08 8.65888079e+08 8.56183829e+08\n",
      " 8.58822722e+08]\n",
      "37\n",
      "[1.11754540e+09 1.12537628e+09 1.11725549e+09 1.10521278e+09\n",
      " 1.09971433e+09 1.10121894e+09 1.10526500e+09 1.11626027e+09\n",
      " 1.12542865e+09 1.13120583e+09 1.13228623e+09 1.12234017e+09\n",
      " 1.10963277e+09 1.10389102e+09 1.10402567e+09 1.11003734e+09\n",
      " 1.12019642e+09 1.12910704e+09 1.13112819e+09 1.12315226e+09\n",
      " 1.11823469e+09 1.10408522e+09 1.09691504e+09 1.10243569e+09\n",
      " 1.10968362e+09 1.12340635e+09 1.13281038e+09 1.13487335e+09\n",
      " 1.13284433e+09 1.12609821e+09 1.11094199e+09 1.10758117e+09\n",
      " 1.10877469e+09 1.11775794e+09 1.12805040e+09 1.13238585e+09\n",
      " 1.13943188e+09]\n",
      "Saved top_fluxes.txt in current directory\n",
      "Saved bottom_fluxes.txt in current directory\n"
     ]
    }
   ],
   "source": [
    "# Aperture coordinates (edit as needed)\n",
    "# top aperture: x from x0_top..x1_top (inclusive start, exclusive end), y from y0_top..y1_top\n",
    "x0_top, x1_top = 20, 1000\n",
    "y0_top, y1_top = 520, 900\n",
    "# bottom aperture\n",
    "x0_bot, x1_bot = 20, 1000\n",
    "y0_bot, y1_bot = 10, 490\n",
    "\n",
    "from pathlib import Path\n",
    "from astropy.io import fits\n",
    "import numpy as np\n",
    "\n",
    "# Directory containing flat-fielded images\n",
    "flat_dir = Path(\"/home/shared/exoserver/NIRC2_Pol/Dome_Flats/2025oct02/\" + wavelength + \"-Band/Flat_Fielded_Data/\")\n",
    "flat_files = sorted(flat_dir.glob('*_flatfielded.fits'))\n",
    "print(flat_files)\n",
    "print(f'Found {len(flat_files)} flat-fielded files')\n",
    "\n",
    "top_fluxes = []\n",
    "bottom_fluxes = []\n",
    "\n",
    "for i in range(start_index, end_index + 1):\n",
    "    idx_str = f\"{i:04d}\"\n",
    "    file_suffix3 = '_flatfielded.fits'\n",
    "    fname = flat_dir / f\"{file_prefix}{idx_str}{file_suffix3}\"\n",
    "    if i in skip_indices:\n",
    "        print(f\"Skipping file number {i} (in skip_indices)\")\n",
    "        continue\n",
    "    try:\n",
    "        with fits.open(fname) as hdu:\n",
    "            img = hdu[0].data.astype(float)\n",
    "    except Exception as e:\n",
    "        print(f'Error loading {fname}: {e}')\n",
    "        top_fluxes.append(np.nan)\n",
    "        bottom_fluxes.append(np.nan)\n",
    "        continue\n",
    "\n",
    "    # Safety: ensure indices are within bounds\n",
    "    h, w = img.shape\n",
    "    def clip_coords(a0, a1, maxv):\n",
    "        a0 = max(0, min(maxv, a0))\n",
    "        a1 = max(0, min(maxv, a1))\n",
    "        return a0, a1\n",
    "    x0t, x1t = clip_coords(x0_top, x1_top, w)\n",
    "    y0t, y1t = clip_coords(y0_top, y1_top, h)\n",
    "    x0b, x1b = clip_coords(x0_bot, x1_bot, w)\n",
    "    y0b, y1b = clip_coords(y0_bot, y1_bot, h)\n",
    "\n",
    "    #print(np.nansum(img[y0t:y1t, x0t:x1t]))\n",
    "    #print(np.nansum(img[y0b:y1b, x0b:x1b]))\n",
    "    top_sum = np.nansum(img[y0t:y1t, x0t:x1t])\n",
    "    bot_sum = np.nansum(img[y0b:y1b, x0b:x1b])\n",
    "    top_fluxes.append(top_sum)\n",
    "    bottom_fluxes.append(bot_sum)\n",
    "\n",
    "top_fluxes = np.array(top_fluxes)\n",
    "bottom_fluxes = np.array(bottom_fluxes)\n",
    "\n",
    "print(top_fluxes)\n",
    "print(len(top_fluxes))\n",
    "print(bottom_fluxes)\n",
    "\n",
    "# Save as text files in the current directory\n",
    "np.savetxt('top_fluxes.txt', top_fluxes, fmt='%.6e')\n",
    "print(\"Saved top_fluxes.txt in current directory\")\n",
    "np.savetxt('bottom_fluxes.txt', bottom_fluxes, fmt='%.6e')\n",
    "print('Saved bottom_fluxes.txt in current directory')"
   ]
  },
  {
   "cell_type": "markdown",
   "id": "6d142236",
   "metadata": {},
   "source": [
    "## 4) Plot normalized difference vs HWP angle\n",
    "\n",
    "Compute abs(top - bottom)/(top + bottom) and plot versus angles from 0 to 180 in steps of 10 degrees. If number of angles doesn't match number of files, the code will use the smaller of the two and warn."
   ]
  },
  {
   "cell_type": "code",
   "execution_count": 7,
   "id": "a1a1e896",
   "metadata": {},
   "outputs": [
    {
     "data": {
      "image/png": "[encoded data removed]",
      "text/plain": [
       "<Figure size 800x500 with 1 Axes>"
      ]
     },
     "metadata": {},
     "output_type": "display_data"
    },
    {
     "name": "stdout",
     "output_type": "stream",
     "text": [
      "Plot saved to normalized_difference_vs_angle.png\n"
     ]
    },
    {
     "data": {
      "text/plain": [
       "<Figure size 640x480 with 0 Axes>"
      ]
     },
     "metadata": {},
     "output_type": "display_data"
    }
   ],
   "source": [
    "import matplotlib.pyplot as plt\n",
    "\n",
    "angles = np.arange(0, 361, 10)  # 0..180 step 10\n",
    "n_angles = len(angles)\n",
    "n_files = len(top_fluxes)\n",
    "if n_angles != n_files:\n",
    "    print(f'Warning: number of angles ({n_angles}) != number of files ({n_files}). Using min length.')\n",
    "L = min(n_angles, n_files)\n",
    "angles = angles[:L]\n",
    "top = top_fluxes[:L]\n",
    "bot = bottom_fluxes[:L]\n",
    "\n",
    "# Avoid division by zero\n",
    "den = top + bot\n",
    "with np.errstate(divide='ignore', invalid='ignore'):\n",
    "    norm_diff = np.abs(top - bot) / den\n",
    "\n",
    "plt.figure(figsize=(8,5))\n",
    "plt.plot(angles, norm_diff, marker='o')\n",
    "plt.xlabel('HWP Angle (Degrees)')\n",
    "plt.ylabel(\"Normalized Difference\")\n",
    "plt.grid(True)\n",
    "plt.title(\"JHK HWP Modulation - \" + wavelength + \"-Band\")\n",
    "plt.show()\n",
    "\n",
    "# Save plot\n",
    "plt.savefig(\"normalized_difference_vs_angle.png\", dpi=200)\n",
    "print(\"Plot saved to normalized_difference_vs_angle.png\")"
   ]
  },
  {
   "cell_type": "markdown",
   "id": "8450b36b",
   "metadata": {},
   "source": [
    "### Notes and edge-cases\n",
    "\n",
    "- Empty or missing files: the code prints warnings and writes NaN for fluxes.\n",
    "- Shape mismatch between flat and frames raises an error to avoid silent incorrect results.\n",
    "- Aperture coordinates are clipped to array bounds.\n",
    "- Division by zero in normalized difference is handled with NumPy's errstate and will produce `nan` for invalid points.\n",
    "\n",
    "Change the parameters in the first code cell to match your environment and filenames."
   ]
  },
  {
   "cell_type": "markdown",
   "id": "3dfb5e8b",
   "metadata": {},
   "source": []
  },
  {
   "cell_type": "markdown",
   "id": "15cfa7e3",
   "metadata": {},
   "source": []
  }
 ],
 "metadata": {
  "kernelspec": {
   "display_name": "base",
   "language": "python",
   "name": "python3"
  },
  "language_info": {
   "codemirror_mode": {
    "name": "ipython",
    "version": 3
   },
   "file_extension": ".py",
   "mimetype": "text/x-python",
   "name": "python",
   "nbconvert_exporter": "python",
   "pygments_lexer": "ipython3",
   "version": "3.12.7"
  }
 },
 "nbformat": 4,
 "nbformat_minor": 5
}

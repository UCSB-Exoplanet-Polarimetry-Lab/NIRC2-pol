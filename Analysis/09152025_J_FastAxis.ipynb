{
 "cells": [
  {
   "cell_type": "code",
   "execution_count": 2,
   "id": "f6bb8a53",
   "metadata": {},
   "outputs": [],
   "source": [
    "import numpy as np\n",
    "from pathlib import Path\n",
    "from astropy.io import fits\n",
    "from matplotlib import patches\n",
    "import matplotlib.pyplot as plt"
   ]
  },
  {
   "cell_type": "markdown",
   "id": "a7584daa",
   "metadata": {},
   "source": [
    "# Script purpose:\n",
    "Find the fast axis given a HWP modulation sequence.\n",
    "\n",
    "## Notes and edge-cases\n",
    "\n",
    "- Empty or missing files: the code prints warnings and writes NaN for fluxes.\n",
    "- Shape mismatch between flat and frames raises an error to avoid silent incorrect results.\n",
    "- Aperture coordinates are clipped to array bounds.\n",
    "- Division by zero in normalized difference is handled with NumPy's errstate and will produce `nan` for invalid points.\n",
    "\n",
    "Change the parameters in the first code cell to match your environment and filenames."
   ]
  },
  {
   "cell_type": "markdown",
   "id": "fadc3167",
   "metadata": {},
   "source": [
    "## User Input\n",
    "\n",
    "Change these parameters to match your data."
   ]
  },
  {
   "cell_type": "code",
   "execution_count": 13,
   "id": "b9378c90",
   "metadata": {},
   "outputs": [],
   "source": [
    "# Parameters: edit these to match your data\n",
    "wavelength = \"J\"\n",
    "obs_date = \"2025sep15\"\n",
    "input_dir = \"/home/shared/exoserver/NIRC2_Pol/Dome_Flats/{}/Raw_Data/\".format(obs_date)  # directory with n###.fits files\n",
    "file_prefix = 'n'  # files like n0.fits, n10.fits or n001.fits depending on your naming\n",
    "file_suffix = '.fits'\n",
    "start_index = 5  # inclusive\n",
    "end_index = 24   # inclusive; if you want 0..18 (19 files)\n",
    "# List of file numbers to skip (e.g., [7, 13, 21])\n",
    "skip_indices = [17]  # edit this list as needed\n",
    "start_ang = 0 #starting angle in degrees\n",
    "stop_ang = 180 #ending angle in degrees\n",
    "step_ang = 10 #step size in degrees\n",
    "\n",
    "flat_file = '/home/shared/exoserver/NIRC2_Pol/Dome_Flats/2025sep15/Raw_Data/n0002.fits'  # path to no-wollaston image with same wavelength, but different t_int\n",
    "dark_file = '/home/shared/exoserver/NIRC2_Pol/Dome_Flats/2025sep18/n0007.fits' # path to master dark\n"
   ]
  },
  {
   "cell_type": "code",
   "execution_count": 14,
   "id": "8ed17d1c",
   "metadata": {},
   "outputs": [],
   "source": [
    "##setting up output directories -- only need to change if you really want to\n",
    "output_dark_dir = Path(\"/home/shared/exoserver/NIRC2_Pol/Dome_Flats/{}/\".format(obs_date) + wavelength + \"-Band/Dark_Subtracted_Data\")  # directory to save dark-subtracted files\n",
    "output_dark_dir.mkdir(parents=True, exist_ok=True)\n",
    "\n",
    "input_flat_dir = Path(\"/home/shared/exoserver/NIRC2_Pol/Dome_Flats/{}/\".format(obs_date) + wavelength + \"-Band/Dark_Subtracted_Data/\")  # directory with dark-subtracted FITS files\n",
    "output_flat_dir = Path(\"/home/shared/exoserver/NIRC2_Pol/Dome_Flats/{}/\".format(obs_date) + wavelength + \"-Band/Flat_Fielded_Data/\")  # directory to save flat-fielded files\n",
    "output_flat_dir.mkdir(parents=True, exist_ok=True)"
   ]
  },
  {
   "cell_type": "markdown",
   "id": "055581ce",
   "metadata": {},
   "source": [
    "## Read in files"
   ]
  },
  {
   "cell_type": "code",
   "execution_count": 15,
   "id": "5dc48a41",
   "metadata": {},
   "outputs": [
    {
     "name": "stdout",
     "output_type": "stream",
     "text": [
      "Skipping file number 17 (in skip_indices)\n",
      "Found 19 files to process\n"
     ]
    }
   ],
   "source": [
    "# Build list of filenames\n",
    "from pathlib import Path\n",
    "import numpy as np\n",
    "input_dir = Path(input_dir)\n",
    "files = []\n",
    "for i in range(start_index, end_index + 1):\n",
    "    if i in skip_indices:\n",
    "        print(f\"Skipping file number {i} (in skip_indices)\")\n",
    "        continue\n",
    "    # zero-pad the numeric index to 4 digits, e.g., 5 -> 0005\n",
    "    idx_str = f\"{i:04d}\"\n",
    "    fname = input_dir / f\"{file_prefix}{idx_str}{file_suffix}\"\n",
    "    if fname.exists():\n",
    "        files.append(str(fname))\n",
    "    else:\n",
    "        print(f\"Warning: {fname} not found\")\n",
    "\n",
    "print(f'Found {len(files)} files to process')"
   ]
  },
  {
   "cell_type": "markdown",
   "id": "c38990a9",
   "metadata": {},
   "source": [
    "## Dark Subtraction + Flat Fielding\n",
    "\n",
    "This cell will dark subtract using the specified image and open the flat field image and divide each science frame by the flat. It performs a small sigma-clipped normalization of the flat before applying to avoid scaling issues."
   ]
  },
  {
   "cell_type": "code",
   "execution_count": 16,
   "id": "e538e912",
   "metadata": {},
   "outputs": [
    {
     "name": "stdout",
     "output_type": "stream",
     "text": [
      "Saved n0005_darksub.fits\n",
      "Saved n0006_darksub.fits\n",
      "Saved n0007_darksub.fits\n",
      "Saved n0008_darksub.fits\n",
      "Saved n0009_darksub.fits\n",
      "Saved n0010_darksub.fits\n",
      "Saved n0011_darksub.fits\n",
      "Saved n0012_darksub.fits\n",
      "Saved n0013_darksub.fits\n",
      "Saved n0014_darksub.fits\n",
      "Saved n0015_darksub.fits\n",
      "Saved n0016_darksub.fits\n",
      "Saved n0018_darksub.fits\n",
      "Saved n0019_darksub.fits\n",
      "Saved n0020_darksub.fits\n",
      "Saved n0021_darksub.fits\n",
      "Saved n0022_darksub.fits\n",
      "Saved n0023_darksub.fits\n",
      "Saved n0024_darksub.fits\n",
      "Saved n0005_flatfielded.fits\n",
      "Saved n0006_flatfielded.fits\n",
      "Saved n0007_flatfielded.fits\n",
      "Saved n0008_flatfielded.fits\n",
      "Saved n0009_flatfielded.fits\n",
      "Saved n0010_flatfielded.fits\n",
      "Saved n0011_flatfielded.fits\n",
      "Saved n0012_flatfielded.fits\n",
      "Saved n0013_flatfielded.fits\n",
      "Saved n0014_flatfielded.fits\n",
      "Saved n0015_flatfielded.fits\n",
      "Saved n0016_flatfielded.fits\n",
      "Skipping file number 17 (in skip_indices)\n",
      "Saved n0018_flatfielded.fits\n",
      "Saved n0019_flatfielded.fits\n",
      "Saved n0020_flatfielded.fits\n",
      "Saved n0021_flatfielded.fits\n",
      "Saved n0022_flatfielded.fits\n",
      "Saved n0023_flatfielded.fits\n",
      "Saved n0024_flatfielded.fits\n"
     ]
    }
   ],
   "source": [
    "# Load dark\n",
    "with fits.open(dark_file) as hdudark:\n",
    "    dark = hdudark[0].data.astype(float)\n",
    "\n",
    "# Dark subtract and save each file\n",
    "for f in files:\n",
    "    with fits.open(f) as hdu:\n",
    "        data = hdu[0].data.astype(float)\n",
    "        header = hdu[0].header\n",
    "    if data.shape != dark.shape:\n",
    "        print(f'Skipping {Path(f).name}: shape mismatch with dark')\n",
    "        continue\n",
    "    sub = data - dark\n",
    "    outname = output_dark_dir / (Path(f).stem + '_darksub.fits')\n",
    "    fits.writeto(outname, sub.astype(np.float32), header=header, overwrite=True)\n",
    "    print(f'Saved {outname.name}')\n",
    "\n",
    "# Load flat\n",
    "hdul = fits.open(flat_file)\n",
    "primary_hdu = hdul[0]\n",
    "flat = (primary_hdu.data - dark) / np.median(primary_hdu.data - dark)\n",
    "\n",
    "# Replace zeros or NaNs in flat with median of good pixels\n",
    "#mask_good = np.isfinite(flat) & (flat > 0)\n",
    "#if not np.any(mask_good):\n",
    "#    raise RuntimeError('Flat field contains no positive finite pixels')\n",
    "#flat_median = np.median(flat[mask_good])\n",
    "#flat[~mask_good] = flat_median\n",
    "\n",
    "for i in range(start_index, end_index + 1):\n",
    "    idx_str = f\"{i:04d}\"\n",
    "    file_suffix2 = '_darksub.fits'\n",
    "    fname = input_flat_dir / f\"{file_prefix}{idx_str}{file_suffix2}\"\n",
    "    if i in skip_indices:\n",
    "        print(f\"Skipping file number {i} (in skip_indices)\")\n",
    "        continue\n",
    "    with fits.open(fname) as hdu:\n",
    "        data = hdu[0].data.astype(float)\n",
    "        header = hdu[0].header\n",
    "    if data.shape != flat.shape:\n",
    "        print(f'Skipping {fname.name}: shape mismatch')\n",
    "        continue\n",
    "    with np.errstate(divide='ignore', invalid='ignore'):\n",
    "        ff = np.divide(data, flat, out=np.full_like(data, np.nan), where=(flat != 0))\n",
    "    ff[~np.isfinite(ff)] = np.nan\n",
    "    outname = output_flat_dir / (fname.stem.replace('_darksub','') + '_flatfielded.fits')\n",
    "    fits.writeto(outname, ff.astype(np.float32), header=header, overwrite=True)\n",
    "    print(f'Saved {outname.name}')\n"
   ]
  },
  {
   "cell_type": "markdown",
   "id": "fe5fffc0",
   "metadata": {},
   "source": [
    "## Aperture Photometry to Extract Differences\n",
    "\n",
    "We define two rectangular apertures by (x0, x1, y0, y1). The code sums pixels inside each aperture for every flat-fielded image. The top aperture sums are saved into `top_fluxes.npy` and the bottom into `bottom_fluxes.npy`.\n",
    "\n",
    "Adjust the aperture coordinates to match your data. Coordinates are in pixel indices with origin (0,0) at the FITS array's [0,0]."
   ]
  },
  {
   "cell_type": "code",
   "execution_count": 17,
   "id": "fc67e847",
   "metadata": {},
   "outputs": [
    {
     "name": "stdout",
     "output_type": "stream",
     "text": [
      "[PosixPath('/home/shared/exoserver/NIRC2_Pol/Dome_Flats/2025sep15/J-Band/Flat_Fielded_Data/n0005_flatfielded.fits'), PosixPath('/home/shared/exoserver/NIRC2_Pol/Dome_Flats/2025sep15/J-Band/Flat_Fielded_Data/n0006_flatfielded.fits'), PosixPath('/home/shared/exoserver/NIRC2_Pol/Dome_Flats/2025sep15/J-Band/Flat_Fielded_Data/n0007_flatfielded.fits'), PosixPath('/home/shared/exoserver/NIRC2_Pol/Dome_Flats/2025sep15/J-Band/Flat_Fielded_Data/n0008_flatfielded.fits'), PosixPath('/home/shared/exoserver/NIRC2_Pol/Dome_Flats/2025sep15/J-Band/Flat_Fielded_Data/n0009_flatfielded.fits'), PosixPath('/home/shared/exoserver/NIRC2_Pol/Dome_Flats/2025sep15/J-Band/Flat_Fielded_Data/n0010_flatfielded.fits'), PosixPath('/home/shared/exoserver/NIRC2_Pol/Dome_Flats/2025sep15/J-Band/Flat_Fielded_Data/n0011_flatfielded.fits'), PosixPath('/home/shared/exoserver/NIRC2_Pol/Dome_Flats/2025sep15/J-Band/Flat_Fielded_Data/n0012_flatfielded.fits'), PosixPath('/home/shared/exoserver/NIRC2_Pol/Dome_Flats/2025sep15/J-Band/Flat_Fielded_Data/n0013_flatfielded.fits'), PosixPath('/home/shared/exoserver/NIRC2_Pol/Dome_Flats/2025sep15/J-Band/Flat_Fielded_Data/n0014_flatfielded.fits'), PosixPath('/home/shared/exoserver/NIRC2_Pol/Dome_Flats/2025sep15/J-Band/Flat_Fielded_Data/n0015_flatfielded.fits'), PosixPath('/home/shared/exoserver/NIRC2_Pol/Dome_Flats/2025sep15/J-Band/Flat_Fielded_Data/n0016_flatfielded.fits'), PosixPath('/home/shared/exoserver/NIRC2_Pol/Dome_Flats/2025sep15/J-Band/Flat_Fielded_Data/n0017_flatfielded.fits'), PosixPath('/home/shared/exoserver/NIRC2_Pol/Dome_Flats/2025sep15/J-Band/Flat_Fielded_Data/n0018_flatfielded.fits'), PosixPath('/home/shared/exoserver/NIRC2_Pol/Dome_Flats/2025sep15/J-Band/Flat_Fielded_Data/n0019_flatfielded.fits'), PosixPath('/home/shared/exoserver/NIRC2_Pol/Dome_Flats/2025sep15/J-Band/Flat_Fielded_Data/n0020_flatfielded.fits'), PosixPath('/home/shared/exoserver/NIRC2_Pol/Dome_Flats/2025sep15/J-Band/Flat_Fielded_Data/n0021_flatfielded.fits'), PosixPath('/home/shared/exoserver/NIRC2_Pol/Dome_Flats/2025sep15/J-Band/Flat_Fielded_Data/n0022_flatfielded.fits'), PosixPath('/home/shared/exoserver/NIRC2_Pol/Dome_Flats/2025sep15/J-Band/Flat_Fielded_Data/n0023_flatfielded.fits'), PosixPath('/home/shared/exoserver/NIRC2_Pol/Dome_Flats/2025sep15/J-Band/Flat_Fielded_Data/n0024_flatfielded.fits')]\n",
      "Found 20 flat-fielded files\n",
      "Skipping file number 17 (in skip_indices)\n",
      "[5.16949370e+08 5.21768002e+08 5.25589085e+08 5.29414712e+08\n",
      " 5.27949370e+08 5.22812010e+08 5.19715602e+08 5.21170526e+08\n",
      " 5.17838871e+08 5.15825167e+08 5.15988017e+08 5.21295051e+08\n",
      " 5.27438736e+08 5.25742726e+08 5.27192100e+08 5.21293616e+08\n",
      " 5.23128456e+08 5.18474081e+08 5.20228807e+08]\n",
      "19\n",
      "[5.35551934e+08 5.34938640e+08 5.30671729e+08 5.27672958e+08\n",
      " 5.23741371e+08 5.21723028e+08 5.25641816e+08 5.35163295e+08\n",
      " 5.36501076e+08 5.33967610e+08 5.28389652e+08 5.25630651e+08\n",
      " 5.24878787e+08 5.20837298e+08 5.25728389e+08 5.27392083e+08\n",
      " 5.37922840e+08 5.37935036e+08 5.39810242e+08]\n",
      "Saved top_fluxes.txt in current directory\n",
      "Saved bottom_fluxes.txt in current directory\n"
     ]
    }
   ],
   "source": [
    "# Aperture coordinates (edit as needed)\n",
    "# top aperture: x from x0_top..x1_top (inclusive start, exclusive end), y from y0_top..y1_top\n",
    "x0_top, x1_top = 250, 950\n",
    "y0_top, y1_top = 575, 985\n",
    "# bottom aperture\n",
    "x0_bot, x1_bot = 250, 950\n",
    "y0_bot, y1_bot = 40, 450\n",
    "\n",
    "# Directory containing flat-fielded images\n",
    "flat_files = sorted(output_flat_dir.glob('*_flatfielded.fits'))\n",
    "print(flat_files)\n",
    "print(f'Found {len(flat_files)} flat-fielded files')\n",
    "\n",
    "top_fluxes = []\n",
    "bottom_fluxes = []\n",
    "\n",
    "for i in range(start_index, end_index + 1):\n",
    "    idx_str = f\"{i:04d}\"\n",
    "    file_suffix3 = '_flatfielded.fits'\n",
    "    fname = output_flat_dir / f\"{file_prefix}{idx_str}{file_suffix3}\"\n",
    "    if i in skip_indices:\n",
    "        print(f\"Skipping file number {i} (in skip_indices)\")\n",
    "        continue\n",
    "    try:\n",
    "        with fits.open(fname) as hdu:\n",
    "            img = hdu[0].data.astype(float)\n",
    "    except Exception as e:\n",
    "        print(f'Error loading {fname}: {e}')\n",
    "        top_fluxes.append(np.nan)\n",
    "        bottom_fluxes.append(np.nan)\n",
    "        continue\n",
    "\n",
    "    # Safety: ensure indices are within bounds\n",
    "    h, w = img.shape\n",
    "    def clip_coords(a0, a1, maxv):\n",
    "        a0 = max(0, min(maxv, a0))\n",
    "        a1 = max(0, min(maxv, a1))\n",
    "        return a0, a1\n",
    "    x0t, x1t = clip_coords(x0_top, x1_top, w)\n",
    "    y0t, y1t = clip_coords(y0_top, y1_top, h)\n",
    "    x0b, x1b = clip_coords(x0_bot, x1_bot, w)\n",
    "    y0b, y1b = clip_coords(y0_bot, y1_bot, h)\n",
    "\n",
    "    #print(np.nansum(img[y0t:y1t, x0t:x1t]))\n",
    "    #print(np.nansum(img[y0b:y1b, x0b:x1b]))\n",
    "    top_sum = np.nansum(img[y0t:y1t, x0t:x1t])\n",
    "    bot_sum = np.nansum(img[y0b:y1b, x0b:x1b])\n",
    "    top_fluxes.append(top_sum)\n",
    "    bottom_fluxes.append(bot_sum)\n",
    "\n",
    "    # Plot image with apertures\n",
    "    #fig, ax = plt.subplots(figsize=(8,6))\n",
    "    #im = ax.imshow(img, origin='lower', cmap='gray', vmin=np.nanpercentile(img, 5), vmax=np.nanpercentile(img, 99))\n",
    "    # Top aperture\n",
    "    #rect_top = patches.Rectangle((x0t, y0t), x1t-x0t, y1t-y0t, linewidth=2, edgecolor='r', facecolor='none', label='Top aperture')\n",
    "    #ax.add_patch(rect_top)\n",
    "    # Bottom aperture\n",
    "    #rect_bot = patches.Rectangle((x0b, y0b), x1b-x0b, y1b-y0b, linewidth=2, edgecolor='b', facecolor='none', label='Bottom aperture')\n",
    "    #ax.add_patch(rect_bot)\n",
    "    #ax.legend(handles=[rect_top, rect_bot])\n",
    "    #plt.colorbar(im, ax=ax, fraction=0.046, pad=0.04)\n",
    "    #plt.show()\n",
    "\n",
    "    #plt.hist(np.ravel(img[y0t:y1t, x0t:x1t]),bins=5,alpha=0.5,label='top')\n",
    "    #plt.hist(np.ravel(img[y0b:y1b, x0b:x1b]),bins=5,alpha=0.5,label='bottom')\n",
    "    #plt.legend()\n",
    "    #plt.show()\n",
    "\n",
    "top_fluxes = np.array(top_fluxes)\n",
    "bottom_fluxes = np.array(bottom_fluxes)\n",
    "\n",
    "print(top_fluxes)\n",
    "print(len(top_fluxes))\n",
    "print(bottom_fluxes)\n",
    "\n",
    "# Save as text files in the current directory\n",
    "np.savetxt('top_fluxes.txt', top_fluxes, fmt='%.6e')\n",
    "print(\"Saved top_fluxes.txt in current directory\")\n",
    "np.savetxt('bottom_fluxes.txt', bottom_fluxes, fmt='%.6e')\n",
    "print('Saved bottom_fluxes.txt in current directory')\n",
    "\n"
   ]
  },
  {
   "cell_type": "markdown",
   "id": "be61d4a4",
   "metadata": {},
   "source": [
    "Plot normalized difference vs HWP angle\n",
    "\n",
    "Compute abs(top - bottom)/(top + bottom) and plot versus angles from 0 to 180 in steps of 10 degrees. If number of angles doesn't match number of files, the code will use the smaller of the two and warn."
   ]
  },
  {
   "cell_type": "code",
   "execution_count": 18,
   "id": "4c71ea7d",
   "metadata": {},
   "outputs": [
    {
     "data": {
      "image/png": "[encoded data removed]",
      "text/plain": [
       "<Figure size 800x500 with 1 Axes>"
      ]
     },
     "metadata": {},
     "output_type": "display_data"
    },
    {
     "name": "stdout",
     "output_type": "stream",
     "text": [
      "Plot saved to 2025sep15_J-Band_normalized_difference_vs_angle.png\n"
     ]
    },
    {
     "data": {
      "text/plain": [
       "<Figure size 640x480 with 0 Axes>"
      ]
     },
     "metadata": {},
     "output_type": "display_data"
    }
   ],
   "source": [
    "angles = np.arange(start_ang, stop_ang+1, step_ang) \n",
    "n_angles = len(angles)\n",
    "n_files = len(top_fluxes)\n",
    "if n_angles != n_files:\n",
    "    print(f'Warning: number of angles ({n_angles}) != number of files ({n_files}). Using min length.')\n",
    "L = min(n_angles, n_files)\n",
    "angles = angles[:L]\n",
    "top = top_fluxes[:L]\n",
    "bot = bottom_fluxes[:L]\n",
    "\n",
    "# Avoid division by zero\n",
    "den = top + bot\n",
    "with np.errstate(divide='ignore', invalid='ignore'):\n",
    "    norm_diff = (top - bot) / den\n",
    "\n",
    "plt.figure(figsize=(8,5))\n",
    "plt.plot(angles, norm_diff, marker='o')\n",
    "plt.xlabel('HWP Angle (Degrees)')\n",
    "plt.ylabel(\"Normalized Difference\")\n",
    "plt.grid(True)\n",
    "plt.title(\"JHK HWP Modulation - \" + wavelength + \"-Band\")\n",
    "plt.show()\n",
    "\n",
    "# Save plot\n",
    "plt.savefig(\"{}_{}-Band_normalized_difference_vs_angle.png\".format(obs_date, wavelength), dpi=200)\n",
    "print(\"Plot saved to {}_{}-Band_normalized_difference_vs_angle.png\".format(obs_date, wavelength))"
   ]
  },
  {
   "cell_type": "markdown",
   "id": "04d0d5c5",
   "metadata": {},
   "source": [
    "## Fitting for Fast Axis"
   ]
  },
  {
   "cell_type": "code",
   "execution_count": 19,
   "id": "af0ea674",
   "metadata": {},
   "outputs": [],
   "source": [
    "import numpy as np\n",
    "import scipy.optimize\n",
    "\n",
    "def fit_sum_of_sines(tt, yy, num_sines=2):\n",
    "    '''Fit a sum of sine waves to the input time sequence. Returns fitting parameters and a fit function.'''\n",
    "    tt = np.array(tt)\n",
    "    yy = np.array(yy)\n",
    "\n",
    "    # FFT to estimate dominant frequencies\n",
    "    ff = np.fft.fftfreq(len(tt), (tt[1]-tt[0]))  # frequency bins\n",
    "    Fyy = abs(np.fft.fft(yy))\n",
    "    \n",
    "    # Get top N frequency guesses (skip zero freq)\n",
    "    top_indices = np.argsort(Fyy[1:])[::-1][:num_sines] + 1\n",
    "    guess_freqs = abs(ff[top_indices])\n",
    "\n",
    "    guess = []\n",
    "    for freq in guess_freqs:\n",
    "        amp = np.std(yy) / num_sines * 2.**0.5\n",
    "        phase = 0.\n",
    "        guess += [amp, 2.*np.pi*freq, phase]\n",
    "    \n",
    "    # Offset guess\n",
    "    offset_guess = np.mean(yy)\n",
    "    guess.append(offset_guess)\n",
    "\n",
    "    # Define the sum-of-sines model\n",
    "    def sum_of_sines(t, *params):\n",
    "        result = np.zeros_like(t)\n",
    "        for i in range(num_sines):\n",
    "            A = params[3*i]\n",
    "            w = params[3*i+1]\n",
    "            p = params[3*i+2]\n",
    "            result += A * np.sin(w * t + p)\n",
    "        result += params[-1]  # offset\n",
    "        return result\n",
    "\n",
    "    # Fit\n",
    "    popt, pcov = scipy.optimize.curve_fit(sum_of_sines, tt, yy, p0=guess, maxfev=10000)\n",
    "\n",
    "    # Extract parameters\n",
    "    sines = []\n",
    "    for i in range(num_sines):\n",
    "        A, w, p = popt[3*i:3*i+3]\n",
    "        f = w / (2. * np.pi)\n",
    "        sines.append({\n",
    "            \"amp\": A,\n",
    "            \"omega\": w,\n",
    "            \"phase\": p,\n",
    "            \"freq\": f,\n",
    "            \"period\": 1./f\n",
    "        })\n",
    "    offset = popt[-1]\n",
    "\n",
    "    # Fitted function\n",
    "    fitfunc = lambda t: sum(A * np.sin(w * t + p) for A, w, p in zip(popt[::3], popt[1::3], popt[2::3])) + offset\n",
    "\n",
    "    return {\n",
    "        \"sines\": sines,\n",
    "        \"offset\": offset,\n",
    "        \"fitfunc\": fitfunc,\n",
    "        \"maxcov\": np.max(np.abs(pcov)),\n",
    "        \"rawres\": (guess, popt, pcov)\n",
    "    }\n"
   ]
  },
  {
   "cell_type": "code",
   "execution_count": 31,
   "id": "229e4e19",
   "metadata": {},
   "outputs": [],
   "source": [
    "res = fit_sum_of_sines(angles, norm_diff,num_sines=3)\n",
    "smooth_angs = np.linspace(start_ang,stop_ang,200)\n",
    "best_fit_sin = res[\"fitfunc\"](smooth_angs)\n"
   ]
  },
  {
   "cell_type": "code",
   "execution_count": 32,
   "id": "c4be1066",
   "metadata": {},
   "outputs": [
    {
     "data": {
      "image/png": "[encoded data removed]",
      "text/plain": [
       "<Figure size 640x480 with 1 Axes>"
      ]
     },
     "metadata": {},
     "output_type": "display_data"
    }
   ],
   "source": [
    "import matplotlib.pyplot as plt\n",
    "\n",
    "plt.scatter(angles, norm_diff, label='Original Data')\n",
    "plt.plot(smooth_angs, best_fit_sin, color='red', label='Best Fit Summed Sine Curve')\n",
    "plt.legend()\n",
    "plt.show()"
   ]
  },
  {
   "cell_type": "code",
   "execution_count": 33,
   "id": "4e036c43",
   "metadata": {},
   "outputs": [
    {
     "name": "stdout",
     "output_type": "stream",
     "text": [
      "[ 44 143]\n"
     ]
    }
   ],
   "source": [
    "from scipy.signal import find_peaks\n",
    "peaks, props = find_peaks(best_fit_sin)\n",
    "peak_angs = smooth_angs[peaks]\n",
    "print(peaks)"
   ]
  },
  {
   "cell_type": "code",
   "execution_count": 35,
   "id": "2dcdc452",
   "metadata": {},
   "outputs": [
    {
     "name": "stdout",
     "output_type": "stream",
     "text": [
      "Maximum normalized difference: 0.00465 at angle 129.35 degrees\n",
      "Second Peak: 0.00399 at angle 39.8 degrees\n"
     ]
    }
   ],
   "source": [
    "max_peak = peak_angs[np.where(np.max(best_fit_sin[peaks]) == best_fit_sin[peaks])]\n",
    "second_peak = peak_angs[np.where(np.min(best_fit_sin[peaks]) == best_fit_sin[peaks])]\n",
    "print('Maximum normalized difference: '+ str(np.round(np.max(best_fit_sin[peaks]),5))+ ' at angle ' + str(np.round(max_peak[0],2)) + ' degrees')\n",
    "print('Second Peak: ' + str(np.round(np.min(best_fit_sin[peaks]),5))+ ' at angle ' + str(np.round(second_peak[0],2)) + ' degrees')"
   ]
  },
  {
   "cell_type": "code",
   "execution_count": null,
   "id": "386c107f",
   "metadata": {},
   "outputs": [],
   "source": []
  }
 ],
 "metadata": {
  "kernelspec": {
   "display_name": "base",
   "language": "python",
   "name": "python3"
  },
  "language_info": {
   "codemirror_mode": {
    "name": "ipython",
    "version": 3
   },
   "file_extension": ".py",
   "mimetype": "text/x-python",
   "name": "python",
   "nbconvert_exporter": "python",
   "pygments_lexer": "ipython3",
   "version": "3.12.7"
  }
 },
 "nbformat": 4,
 "nbformat_minor": 5
}

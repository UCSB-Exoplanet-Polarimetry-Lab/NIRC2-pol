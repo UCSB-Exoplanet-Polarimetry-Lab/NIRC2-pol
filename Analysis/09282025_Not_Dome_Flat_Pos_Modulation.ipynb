{
 "cells": [
  {
   "cell_type": "markdown",
   "id": "46647eb2",
   "metadata": {},
   "source": [
    "## 1) Read FITS files in a numeric range from a directory\n",
    "\n",
    "Set the input directory, the filename pattern (assumes files named like `n123.fits`), and the start/end indices. The code will build the filenames and read them."
   ]
  },
  {
   "cell_type": "code",
   "execution_count": 36,
   "id": "7e6350b4",
   "metadata": {},
   "outputs": [
    {
     "name": "stdout",
     "output_type": "stream",
     "text": [
      "Found 4 files to process\n",
      "['/home/shared/exoserver/NIRC2_Pol/Dome_Flats/2025sep28/n0021.fits', '/home/shared/exoserver/NIRC2_Pol/Dome_Flats/2025sep28/n0022.fits', '/home/shared/exoserver/NIRC2_Pol/Dome_Flats/2025sep28/n0023.fits', '/home/shared/exoserver/NIRC2_Pol/Dome_Flats/2025sep28/n0024.fits']\n"
     ]
    }
   ],
   "source": [
    "# Parameters: edit these to match your data\n",
    "wavelength = \"K\"\n",
    "input_dir = \"/home/shared/exoserver/NIRC2_Pol/Dome_Flats/2025sep28/\"  # directory with n###.fits files\n",
    "file_prefix = 'n'  # files like n0.fits, n10.fits or n001.fits depending on your naming\n",
    "file_suffix = '.fits'\n",
    "start_index = 21  # inclusive\n",
    "end_index = 24   # inclusive; if you want 0..18 (19 files)\n",
    "flat_file = '/home/shared/exoserver/NIRC2_Pol/Dome_Flats/2025oct02/n0001.fits'  # path to no-wollaston image with same wavelength, but different t_int\n",
    "\n",
    "# List of file numbers to skip (e.g., [7, 13, 21])\n",
    "skip_indices = []  # edit this list as needed\n",
    "\n",
    "# Build list of filenames\n",
    "from pathlib import Path\n",
    "import numpy as np\n",
    "input_dir = Path(input_dir)\n",
    "files = []\n",
    "for i in range(start_index, end_index + 1):\n",
    "    if i in skip_indices:\n",
    "        print(f\"Skipping file number {i} (in skip_indices)\")\n",
    "        continue\n",
    "    # zero-pad the numeric index to 4 digits, e.g., 5 -> 0005\n",
    "    idx_str = f\"{i:04d}\"\n",
    "    fname = input_dir / f\"{file_prefix}{idx_str}{file_suffix}\"\n",
    "    if fname.exists():\n",
    "        files.append(str(fname))\n",
    "    else:\n",
    "        print(f\"Warning: {fname} not found\")\n",
    "\n",
    "print(f'Found {len(files)} files to process')\n",
    "\n",
    "print(files)\n"
   ]
  },
  {
   "cell_type": "markdown",
   "id": "bef0b852",
   "metadata": {},
   "source": [
    "# Dark Subtraction Script"
   ]
  },
  {
   "cell_type": "code",
   "execution_count": 37,
   "id": "0812ea0f",
   "metadata": {},
   "outputs": [
    {
     "name": "stdout",
     "output_type": "stream",
     "text": [
      "Saved n0021_darksub.fits\n",
      "Saved n0022_darksub.fits\n",
      "Saved n0023_darksub.fits\n",
      "Saved n0024_darksub.fits\n"
     ]
    }
   ],
   "source": [
    "# --- DARK SUBTRACTION SCRIPT ---\n",
    "from astropy.io import fits\n",
    "import numpy as np\n",
    "from pathlib import Path\n",
    "\n",
    "# User parameters:\n",
    "dark_file = '/home/shared/exoserver/NIRC2_Pol/Dome_Flats/2025sep18/n0007.fits' # path to master dark\n",
    "output_dark_dir = Path(\"/home/shared/exoserver/NIRC2_Pol/Dome_Flats/2025sep28/\" + wavelength + \"-Band/Dark_Subtracted_Data\")  # directory to save dark-subtracted files\n",
    "output_dark_dir.mkdir(parents=True, exist_ok=True)\n",
    "\n",
    "# Load dark\n",
    "with fits.open(dark_file) as hdudark:\n",
    "    dark = hdudark[0].data.astype(float)\n",
    "\n",
    "# Dark subtract and save each file\n",
    "for f in files:\n",
    "    with fits.open(f) as hdu:\n",
    "        data = hdu[0].data.astype(float)\n",
    "        header = hdu[0].header\n",
    "    if data.shape != dark.shape:\n",
    "        print(f'Skipping {Path(f).name}: shape mismatch with dark')\n",
    "        continue\n",
    "    sub = data - dark\n",
    "    outname = output_dark_dir / (Path(f).stem + '_darksub.fits')\n",
    "    fits.writeto(outname, sub.astype(np.float32), header=header, overwrite=True)\n",
    "    print(f'Saved {outname.name}')\n"
   ]
  },
  {
   "cell_type": "markdown",
   "id": "20d539dd",
   "metadata": {},
   "source": [
    "## 2) Flat-field all files using a specified flat FITS file\n",
    "\n",
    "This cell will open the flat field image and divide each science frame by the flat. It performs a small sigma-clipped normalization of the flat before applying to avoid scaling issues."
   ]
  },
  {
   "cell_type": "code",
   "execution_count": 38,
   "id": "f1a22fad",
   "metadata": {},
   "outputs": [
    {
     "name": "stdout",
     "output_type": "stream",
     "text": [
      "Saved n0021_flatfielded.fits\n",
      "Saved n0022_flatfielded.fits\n",
      "Saved n0023_flatfielded.fits\n",
      "Saved n0024_flatfielded.fits\n"
     ]
    }
   ],
   "source": [
    "# --- SIMPLE FLAT-FIELDING SCRIPT (on dark-subtracted data) ---\n",
    "from astropy.io import fits\n",
    "import numpy as np\n",
    "from pathlib import Path\n",
    "\n",
    "# User parameters:\n",
    "input_dir = Path(\"/home/shared/exoserver/NIRC2_Pol/Dome_Flats/2025sep28/\" + wavelength + \"-Band/Dark_Subtracted_Data/\")  # directory with dark-subtracted FITS files\n",
    "output_flat_dir = Path(\"/home/shared/exoserver/NIRC2_Pol/Dome_Flats/2025sep28/\" + wavelength + \"-Band/Flat_Fielded_Data/\")  # directory to save flat-fielded files\n",
    "output_flat_dir.mkdir(parents=True, exist_ok=True)\n",
    "\n",
    "# Load flat\n",
    "hdul = fits.open(flat_file)\n",
    "primary_hdu = hdul[0]\n",
    "flat = (primary_hdu.data - dark) / np.median(primary_hdu.data - dark)\n",
    "\n",
    "# Replace zeros or NaNs in flat with median of good pixels\n",
    "#mask_good = np.isfinite(flat) & (flat > 0)\n",
    "#if not np.any(mask_good):\n",
    "#    raise RuntimeError('Flat field contains no positive finite pixels')\n",
    "#flat_median = np.median(flat[mask_good])\n",
    "#flat[~mask_good] = flat_median\n",
    "\n",
    "for i in range(start_index, end_index + 1):\n",
    "    idx_str = f\"{i:04d}\"\n",
    "    file_suffix2 = '_darksub.fits'\n",
    "    fname = input_dir / f\"{file_prefix}{idx_str}{file_suffix2}\"\n",
    "    if i in skip_indices:\n",
    "        print(f\"Skipping file number {i} (in skip_indices)\")\n",
    "        continue\n",
    "    with fits.open(fname) as hdu:\n",
    "        data = hdu[0].data.astype(float)\n",
    "        header = hdu[0].header\n",
    "    if data.shape != flat.shape:\n",
    "        print(f'Skipping {fname.name}: shape mismatch')\n",
    "        continue\n",
    "    with np.errstate(divide='ignore', invalid='ignore'):\n",
    "        ff = np.divide(data, flat, out=np.full_like(data, np.nan), where=(flat != 0))\n",
    "    ff[~np.isfinite(ff)] = np.nan\n",
    "    outname = output_flat_dir / (fname.stem.replace('_darksub','') + '_flatfielded.fits')\n",
    "    fits.writeto(outname, ff.astype(np.float32), header=header, overwrite=True)\n",
    "    print(f'Saved {outname.name}')"
   ]
  },
  {
   "cell_type": "markdown",
   "id": "c93d7fa9",
   "metadata": {},
   "source": [
    "## 3) Rectangular aperture photometry (two apertures) and save results\n",
    "\n",
    "We define two rectangular apertures by (x0, x1, y0, y1). The code sums pixels inside each aperture for every flat-fielded image. The top aperture sums are saved into `top_fluxes.npy` and the bottom into `bottom_fluxes.npy`.\n",
    "\n",
    "Adjust the aperture coordinates to match your data. Coordinates are in pixel indices with origin (0,0) at the FITS array's [0,0]."
   ]
  },
  {
   "cell_type": "code",
   "execution_count": 39,
   "id": "d1b85284",
   "metadata": {},
   "outputs": [
    {
     "name": "stdout",
     "output_type": "stream",
     "text": [
      "[PosixPath('/home/shared/exoserver/NIRC2_Pol/Dome_Flats/2025sep28/K-Band/Flat_Fielded_Data/n0007_flatfielded.fits'), PosixPath('/home/shared/exoserver/NIRC2_Pol/Dome_Flats/2025sep28/K-Band/Flat_Fielded_Data/n0008_flatfielded.fits'), PosixPath('/home/shared/exoserver/NIRC2_Pol/Dome_Flats/2025sep28/K-Band/Flat_Fielded_Data/n0009_flatfielded.fits'), PosixPath('/home/shared/exoserver/NIRC2_Pol/Dome_Flats/2025sep28/K-Band/Flat_Fielded_Data/n0010_flatfielded.fits'), PosixPath('/home/shared/exoserver/NIRC2_Pol/Dome_Flats/2025sep28/K-Band/Flat_Fielded_Data/n0011_flatfielded.fits'), PosixPath('/home/shared/exoserver/NIRC2_Pol/Dome_Flats/2025sep28/K-Band/Flat_Fielded_Data/n0012_flatfielded.fits'), PosixPath('/home/shared/exoserver/NIRC2_Pol/Dome_Flats/2025sep28/K-Band/Flat_Fielded_Data/n0013_flatfielded.fits'), PosixPath('/home/shared/exoserver/NIRC2_Pol/Dome_Flats/2025sep28/K-Band/Flat_Fielded_Data/n0014_flatfielded.fits'), PosixPath('/home/shared/exoserver/NIRC2_Pol/Dome_Flats/2025sep28/K-Band/Flat_Fielded_Data/n0017_flatfielded.fits'), PosixPath('/home/shared/exoserver/NIRC2_Pol/Dome_Flats/2025sep28/K-Band/Flat_Fielded_Data/n0018_flatfielded.fits'), PosixPath('/home/shared/exoserver/NIRC2_Pol/Dome_Flats/2025sep28/K-Band/Flat_Fielded_Data/n0019_flatfielded.fits'), PosixPath('/home/shared/exoserver/NIRC2_Pol/Dome_Flats/2025sep28/K-Band/Flat_Fielded_Data/n0020_flatfielded.fits'), PosixPath('/home/shared/exoserver/NIRC2_Pol/Dome_Flats/2025sep28/K-Band/Flat_Fielded_Data/n0021_flatfielded.fits'), PosixPath('/home/shared/exoserver/NIRC2_Pol/Dome_Flats/2025sep28/K-Band/Flat_Fielded_Data/n0022_flatfielded.fits'), PosixPath('/home/shared/exoserver/NIRC2_Pol/Dome_Flats/2025sep28/K-Band/Flat_Fielded_Data/n0023_flatfielded.fits'), PosixPath('/home/shared/exoserver/NIRC2_Pol/Dome_Flats/2025sep28/K-Band/Flat_Fielded_Data/n0024_flatfielded.fits')]\n",
      "Found 16 flat-fielded files\n",
      "[2.27343530e+08 2.30508529e+08 2.29827367e+08 2.33963663e+08]\n",
      "4\n",
      "[2.31714787e+08 2.34822351e+08 2.34032805e+08 2.38178661e+08]\n",
      "Saved top_fluxes.txt in current directory\n",
      "Saved bottom_fluxes.txt in current directory\n"
     ]
    }
   ],
   "source": [
    "# Aperture coordinates (edit as needed)\n",
    "# top aperture: x from x0_top..x1_top (inclusive start, exclusive end), y from y0_top..y1_top\n",
    "x0_top, x1_top = 250, 950\n",
    "y0_top, y1_top = 575, 985\n",
    "# bottom aperture\n",
    "x0_bot, x1_bot = 250, 950\n",
    "y0_bot, y1_bot = 40, 450\n",
    "\n",
    "from pathlib import Path\n",
    "from astropy.io import fits\n",
    "from matplotlib import patches\n",
    "import matplotlib.pyplot as plt\n",
    "import numpy as np\n",
    "\n",
    "# Directory containing flat-fielded images\n",
    "flat_dir = Path(\"/home/shared/exoserver/NIRC2_Pol/Dome_Flats/2025sep28/\" + wavelength + \"-Band/Flat_Fielded_Data/\")\n",
    "flat_files = sorted(flat_dir.glob('*_flatfielded.fits'))\n",
    "print(flat_files)\n",
    "print(f'Found {len(flat_files)} flat-fielded files')\n",
    "\n",
    "top_fluxes = []\n",
    "bottom_fluxes = []\n",
    "\n",
    "for i in range(start_index, end_index + 1):\n",
    "    idx_str = f\"{i:04d}\"\n",
    "    file_suffix3 = '_flatfielded.fits'\n",
    "    fname = flat_dir / f\"{file_prefix}{idx_str}{file_suffix3}\"\n",
    "    if i in skip_indices:\n",
    "        print(f\"Skipping file number {i} (in skip_indices)\")\n",
    "        continue\n",
    "    try:\n",
    "        with fits.open(fname) as hdu:\n",
    "            img = hdu[0].data.astype(float)\n",
    "    except Exception as e:\n",
    "        print(f'Error loading {fname}: {e}')\n",
    "        top_fluxes.append(np.nan)\n",
    "        bottom_fluxes.append(np.nan)\n",
    "        continue\n",
    "\n",
    "    # Safety: ensure indices are within bounds\n",
    "    h, w = img.shape\n",
    "    def clip_coords(a0, a1, maxv):\n",
    "        a0 = max(0, min(maxv, a0))\n",
    "        a1 = max(0, min(maxv, a1))\n",
    "        return a0, a1\n",
    "    x0t, x1t = clip_coords(x0_top, x1_top, w)\n",
    "    y0t, y1t = clip_coords(y0_top, y1_top, h)\n",
    "    x0b, x1b = clip_coords(x0_bot, x1_bot, w)\n",
    "    y0b, y1b = clip_coords(y0_bot, y1_bot, h)\n",
    "\n",
    "    #print(np.nansum(img[y0t:y1t, x0t:x1t]))\n",
    "    #print(np.nansum(img[y0b:y1b, x0b:x1b]))\n",
    "    top_sum = np.nansum(img[y0t:y1t, x0t:x1t])\n",
    "    bot_sum = np.nansum(img[y0b:y1b, x0b:x1b])\n",
    "    top_fluxes.append(top_sum)\n",
    "    bottom_fluxes.append(bot_sum)\n",
    "\n",
    "    # Plot image with apertures\n",
    "    #fig, ax = plt.subplots(figsize=(8,6))\n",
    "    #im = ax.imshow(img, origin='lower', cmap='gray', vmin=np.nanpercentile(img, 5), vmax=np.nanpercentile(img, 99))\n",
    "    # Top aperture\n",
    "    #rect_top = patches.Rectangle((x0t, y0t), x1t-x0t, y1t-y0t, linewidth=2, edgecolor='r', facecolor='none', label='Top aperture')\n",
    "    #ax.add_patch(rect_top)\n",
    "    # Bottom aperture\n",
    "    #rect_bot = patches.Rectangle((x0b, y0b), x1b-x0b, y1b-y0b, linewidth=2, edgecolor='b', facecolor='none', label='Bottom aperture')\n",
    "    #ax.add_patch(rect_bot)\n",
    "    #ax.legend(handles=[rect_top, rect_bot])\n",
    "    #plt.colorbar(im, ax=ax, fraction=0.046, pad=0.04)\n",
    "    #plt.show()\n",
    "\n",
    "    #plt.hist(np.ravel(img[y0t:y1t, x0t:x1t]),bins=5,alpha=0.5,label='top')\n",
    "    #plt.hist(np.ravel(img[y0b:y1b, x0b:x1b]),bins=5,alpha=0.5,label='bottom')\n",
    "    #plt.legend()\n",
    "    #plt.show()\n",
    "\n",
    "top_fluxes = np.array(top_fluxes)\n",
    "bottom_fluxes = np.array(bottom_fluxes)\n",
    "\n",
    "print(top_fluxes)\n",
    "print(len(top_fluxes))\n",
    "print(bottom_fluxes)\n",
    "\n",
    "# Save as text files in the current directory\n",
    "np.savetxt('top_fluxes.txt', top_fluxes, fmt='%.6e')\n",
    "print(\"Saved top_fluxes.txt in current directory\")\n",
    "np.savetxt('bottom_fluxes.txt', bottom_fluxes, fmt='%.6e')\n",
    "print('Saved bottom_fluxes.txt in current directory')\n",
    "\n"
   ]
  },
  {
   "cell_type": "markdown",
   "id": "6d142236",
   "metadata": {},
   "source": [
    "## 4) Plot normalized difference vs HWP angle\n",
    "\n",
    "Compute abs(top - bottom)/(top + bottom) and plot versus angles from 0 to 180 in steps of 10 degrees. If number of angles doesn't match number of files, the code will use the smaller of the two and warn."
   ]
  },
  {
   "cell_type": "code",
   "execution_count": 40,
   "id": "a1a1e896",
   "metadata": {},
   "outputs": [
    {
     "data": {
      "image/png": "[encoded data removed]",
      "text/plain": [
       "<Figure size 800x500 with 1 Axes>"
      ]
     },
     "metadata": {},
     "output_type": "display_data"
    },
    {
     "name": "stdout",
     "output_type": "stream",
     "text": [
      "Plot saved to normalized_difference_vs_angle.png\n"
     ]
    },
    {
     "data": {
      "text/plain": [
       "<Figure size 640x480 with 0 Axes>"
      ]
     },
     "metadata": {},
     "output_type": "display_data"
    }
   ],
   "source": [
    "import matplotlib.pyplot as plt\n",
    "\n",
    "angles = [0,22.5,45,67.5]  # 0..180 step 10\n",
    "n_angles = len(angles)\n",
    "n_files = len(top_fluxes)\n",
    "if n_angles != n_files:\n",
    "    print(f'Warning: number of angles ({n_angles}) != number of files ({n_files}). Using min length.')\n",
    "L = min(n_angles, n_files)\n",
    "angles = angles[:L]\n",
    "top = top_fluxes[:L]\n",
    "bot = bottom_fluxes[:L]\n",
    "\n",
    "# Avoid division by zero\n",
    "den = top + bot\n",
    "with np.errstate(divide='ignore', invalid='ignore'):\n",
    "    norm_diff = (top - bot) / den\n",
    "\n",
    "plt.figure(figsize=(8,5))\n",
    "plt.plot(angles, norm_diff, marker='o')\n",
    "plt.xlabel('HWP Angle (Degrees)')\n",
    "plt.ylabel(\"Normalized Difference\")\n",
    "plt.grid(True)\n",
    "plt.title(\"JHK HWP Modulation - \" + wavelength + \"-Band\")\n",
    "plt.show()\n",
    "\n",
    "# Save plot\n",
    "plt.savefig(\"normalized_difference_vs_angle.png\", dpi=200)\n",
    "print(\"Plot saved to normalized_difference_vs_angle.png\")"
   ]
  },
  {
   "cell_type": "markdown",
   "id": "8450b36b",
   "metadata": {},
   "source": [
    "### Notes and edge-cases\n",
    "\n",
    "- Empty or missing files: the code prints warnings and writes NaN for fluxes.\n",
    "- Shape mismatch between flat and frames raises an error to avoid silent incorrect results.\n",
    "- Aperture coordinates are clipped to array bounds.\n",
    "- Division by zero in normalized difference is handled with NumPy's errstate and will produce `nan` for invalid points.\n",
    "\n",
    "Change the parameters in the first code cell to match your environment and filenames."
   ]
  },
  {
   "cell_type": "markdown",
   "id": "3dfb5e8b",
   "metadata": {},
   "source": []
  },
  {
   "cell_type": "markdown",
   "id": "15cfa7e3",
   "metadata": {},
   "source": []
  },
  {
   "cell_type": "markdown",
   "id": "ce302993",
   "metadata": {},
   "source": []
  }
 ],
 "metadata": {
  "kernelspec": {
   "display_name": "base",
   "language": "python",
   "name": "python3"
  },
  "language_info": {
   "codemirror_mode": {
    "name": "ipython",
    "version": 3
   },
   "file_extension": ".py",
   "mimetype": "text/x-python",
   "name": "python",
   "nbconvert_exporter": "python",
   "pygments_lexer": "ipython3",
   "version": "3.12.7"
  }
 },
 "nbformat": 4,
 "nbformat_minor": 5
}
